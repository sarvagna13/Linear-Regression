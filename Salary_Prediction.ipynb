{
  "nbformat": 4,
  "nbformat_minor": 5,
  "metadata": {
    "kernelspec": {
      "display_name": "Python 3",
      "language": "python",
      "name": "python3"
    },
    "language_info": {
      "codemirror_mode": {
        "name": "ipython",
        "version": 3
      },
      "file_extension": ".py",
      "mimetype": "text/x-python",
      "name": "python",
      "nbconvert_exporter": "python",
      "pygments_lexer": "ipython3",
      "version": "3.8.8"
    },
    "colab": {
      "name": "Salary Prediction.ipynb",
      "provenance": [],
      "include_colab_link": true
    }
  },
  "cells": [
    {
      "cell_type": "markdown",
      "metadata": {
        "id": "view-in-github",
        "colab_type": "text"
      },
      "source": [
        "<a href=\"https://colab.research.google.com/github/sarvagna13/Linear-Regression/blob/main/Salary_Prediction.ipynb\" target=\"_parent\"><img src=\"https://colab.research.google.com/assets/colab-badge.svg\" alt=\"Open In Colab\"/></a>"
      ]
    },
    {
      "cell_type": "markdown",
      "metadata": {
        "id": "3cc10c97"
      },
      "source": [
        "# <center><font color='white' face='comic sans ms'> Salary Prediction</font></center>"
      ],
      "id": "3cc10c97"
    },
    {
      "cell_type": "code",
      "metadata": {
        "id": "5c8fd18a"
      },
      "source": [
        "import numpy as np\n",
        "import pandas as pd\n",
        "import matplotlib.pyplot as plt\n",
        "import seaborn as sns\n",
        "from sklearn.model_selection import train_test_split\n",
        "from sklearn.linear_model import LinearRegression\n",
        "import warnings\n",
        "warnings.filterwarnings('ignore')"
      ],
      "id": "5c8fd18a",
      "execution_count": null,
      "outputs": []
    },
    {
      "cell_type": "code",
      "metadata": {
        "id": "e80ba5aa",
        "outputId": "d7b4ce6b-041a-41d6-cf1c-c1b25edc1dbd"
      },
      "source": [
        "# Import the data set\n",
        "salary_org = pd.read_csv(\"train.csv\")\n",
        "\n",
        "# Print top 5 rows of dataset\n",
        "salary_org.head()"
      ],
      "id": "e80ba5aa",
      "execution_count": null,
      "outputs": [
        {
          "data": {
            "text/html": [
              "<div>\n",
              "<style scoped>\n",
              "    .dataframe tbody tr th:only-of-type {\n",
              "        vertical-align: middle;\n",
              "    }\n",
              "\n",
              "    .dataframe tbody tr th {\n",
              "        vertical-align: top;\n",
              "    }\n",
              "\n",
              "    .dataframe thead th {\n",
              "        text-align: right;\n",
              "    }\n",
              "</style>\n",
              "<table border=\"1\" class=\"dataframe\">\n",
              "  <thead>\n",
              "    <tr style=\"text-align: right;\">\n",
              "      <th></th>\n",
              "      <th>Name</th>\n",
              "      <th>JobTitle</th>\n",
              "      <th>AgencyID</th>\n",
              "      <th>Agency</th>\n",
              "      <th>HireDate</th>\n",
              "      <th>AnnualSalary</th>\n",
              "      <th>GrossPay</th>\n",
              "    </tr>\n",
              "  </thead>\n",
              "  <tbody>\n",
              "    <tr>\n",
              "      <th>0</th>\n",
              "      <td>Aaron,Keontae E</td>\n",
              "      <td>AIDE BLUE CHIP</td>\n",
              "      <td>W02200</td>\n",
              "      <td>Youth Summer</td>\n",
              "      <td>06/10/2013</td>\n",
              "      <td>$11310.00</td>\n",
              "      <td>$873.63</td>\n",
              "    </tr>\n",
              "    <tr>\n",
              "      <th>1</th>\n",
              "      <td>Aaron,Patricia G</td>\n",
              "      <td>Facilities/Office Services II</td>\n",
              "      <td>A03031</td>\n",
              "      <td>OED-Employment Dev</td>\n",
              "      <td>10/24/1979</td>\n",
              "      <td>$53428.00</td>\n",
              "      <td>$52868.38</td>\n",
              "    </tr>\n",
              "    <tr>\n",
              "      <th>2</th>\n",
              "      <td>Aaron,Petra L</td>\n",
              "      <td>ASSISTANT STATE'S ATTORNEY</td>\n",
              "      <td>A29005</td>\n",
              "      <td>States Attorneys Office</td>\n",
              "      <td>09/25/2006</td>\n",
              "      <td>$68300.00</td>\n",
              "      <td>$67439.19</td>\n",
              "    </tr>\n",
              "    <tr>\n",
              "      <th>3</th>\n",
              "      <td>Abaineh,Yohannes T</td>\n",
              "      <td>EPIDEMIOLOGIST</td>\n",
              "      <td>A65026</td>\n",
              "      <td>HLTH-Health Department</td>\n",
              "      <td>07/23/2009</td>\n",
              "      <td>$62000.00</td>\n",
              "      <td>$58654.74</td>\n",
              "    </tr>\n",
              "    <tr>\n",
              "      <th>4</th>\n",
              "      <td>Abbene,Anthony M</td>\n",
              "      <td>POLICE OFFICER TRAINEE</td>\n",
              "      <td>A99416</td>\n",
              "      <td>Police Department</td>\n",
              "      <td>07/24/2013</td>\n",
              "      <td>$43999.00</td>\n",
              "      <td>$39686.95</td>\n",
              "    </tr>\n",
              "  </tbody>\n",
              "</table>\n",
              "</div>"
            ],
            "text/plain": [
              "                 Name                       JobTitle AgencyID  \\\n",
              "0     Aaron,Keontae E                 AIDE BLUE CHIP   W02200   \n",
              "1    Aaron,Patricia G  Facilities/Office Services II   A03031   \n",
              "2       Aaron,Petra L     ASSISTANT STATE'S ATTORNEY   A29005   \n",
              "3  Abaineh,Yohannes T                 EPIDEMIOLOGIST   A65026   \n",
              "4    Abbene,Anthony M         POLICE OFFICER TRAINEE   A99416   \n",
              "\n",
              "                     Agency    HireDate AnnualSalary   GrossPay  \n",
              "0            Youth Summer    06/10/2013    $11310.00    $873.63  \n",
              "1       OED-Employment Dev   10/24/1979    $53428.00  $52868.38  \n",
              "2  States Attorneys Office   09/25/2006    $68300.00  $67439.19  \n",
              "3   HLTH-Health Department   07/23/2009    $62000.00  $58654.74  \n",
              "4        Police Department   07/24/2013    $43999.00  $39686.95  "
            ]
          },
          "execution_count": 2,
          "metadata": {},
          "output_type": "execute_result"
        }
      ]
    },
    {
      "cell_type": "code",
      "metadata": {
        "id": "ed6c7b91",
        "outputId": "f71af65f-6625-414f-c6f4-4d67657c47f8"
      },
      "source": [
        "# Check the info of data set\n",
        "salary_org.info()"
      ],
      "id": "ed6c7b91",
      "execution_count": null,
      "outputs": [
        {
          "name": "stdout",
          "output_type": "stream",
          "text": [
            "<class 'pandas.core.frame.DataFrame'>\n",
            "RangeIndex: 18981 entries, 0 to 18980\n",
            "Data columns (total 7 columns):\n",
            " #   Column        Non-Null Count  Dtype \n",
            "---  ------        --------------  ----- \n",
            " 0    Name         18981 non-null  object\n",
            " 1   JobTitle      18981 non-null  object\n",
            " 2   AgencyID      18981 non-null  object\n",
            " 3   Agency        18981 non-null  object\n",
            " 4   HireDate      18911 non-null  object\n",
            " 5   AnnualSalary  18981 non-null  object\n",
            " 6   GrossPay      15758 non-null  object\n",
            "dtypes: object(7)\n",
            "memory usage: 1.0+ MB\n"
          ]
        }
      ]
    },
    {
      "cell_type": "code",
      "metadata": {
        "id": "fed3af96"
      },
      "source": [
        "# Create a copy of data set\n",
        "salary_cpy = salary_org.copy()"
      ],
      "id": "fed3af96",
      "execution_count": null,
      "outputs": []
    },
    {
      "cell_type": "code",
      "metadata": {
        "id": "a69ed8c5",
        "outputId": "3a594cda-5589-43e3-e7b4-789be33f850f"
      },
      "source": [
        "# Check column names\n",
        "salary_cpy.columns"
      ],
      "id": "a69ed8c5",
      "execution_count": null,
      "outputs": [
        {
          "data": {
            "text/plain": [
              "Index([' Name', 'JobTitle', 'AgencyID', 'Agency', 'HireDate', 'AnnualSalary',\n",
              "       'GrossPay'],\n",
              "      dtype='object')"
            ]
          },
          "execution_count": 5,
          "metadata": {},
          "output_type": "execute_result"
        }
      ]
    },
    {
      "cell_type": "code",
      "metadata": {
        "id": "86d3277c",
        "outputId": "3683c573-fd7b-41e8-948d-2700bb220eed"
      },
      "source": [
        "# Remove leading and trailing edges\n",
        "salary_cpy.columns = salary_cpy.columns.str.strip()\n",
        "\n",
        "# print coloumns after stripping spaces\n",
        "print(\"After Removing leading and trailing spaces \",  salary_cpy.columns)"
      ],
      "id": "86d3277c",
      "execution_count": null,
      "outputs": [
        {
          "name": "stdout",
          "output_type": "stream",
          "text": [
            "After Removing leading and trailing spaces  Index(['Name', 'JobTitle', 'AgencyID', 'Agency', 'HireDate', 'AnnualSalary',\n",
            "       'GrossPay'],\n",
            "      dtype='object')\n"
          ]
        }
      ]
    },
    {
      "cell_type": "code",
      "metadata": {
        "id": "3513277c",
        "outputId": "71294b37-7d9d-499a-d884-18d13894b350"
      },
      "source": [
        "# Check Null Values in data set\n",
        "salary_cpy.isnull().sum()"
      ],
      "id": "3513277c",
      "execution_count": null,
      "outputs": [
        {
          "data": {
            "text/plain": [
              "Name               0\n",
              "JobTitle           0\n",
              "AgencyID           0\n",
              "Agency             0\n",
              "HireDate          70\n",
              "AnnualSalary       0\n",
              "GrossPay        3223\n",
              "dtype: int64"
            ]
          },
          "execution_count": 7,
          "metadata": {},
          "output_type": "execute_result"
        }
      ]
    },
    {
      "cell_type": "code",
      "metadata": {
        "id": "01e4f9e2",
        "outputId": "6a24001a-f25d-41e9-8302-ba70b0ce33ab"
      },
      "source": [
        "# Remove rows having empty hire date\n",
        "salary_cpy = salary_cpy.dropna(subset=['HireDate'])\n",
        "\n",
        "# Check null Values\n",
        "salary_cpy.isnull().sum()"
      ],
      "id": "01e4f9e2",
      "execution_count": null,
      "outputs": [
        {
          "data": {
            "text/plain": [
              "Name               0\n",
              "JobTitle           0\n",
              "AgencyID           0\n",
              "Agency             0\n",
              "HireDate           0\n",
              "AnnualSalary       0\n",
              "GrossPay        3223\n",
              "dtype: int64"
            ]
          },
          "execution_count": 8,
          "metadata": {},
          "output_type": "execute_result"
        }
      ]
    },
    {
      "cell_type": "code",
      "metadata": {
        "id": "9904b0db",
        "outputId": "bb6c97d4-642b-467c-f11a-85c60c788f77"
      },
      "source": [
        "# Drop Gross Pay column\n",
        "salary_cpy=salary_cpy.drop('GrossPay',axis=1)\n",
        "\n",
        "# Check null Values\n",
        "salary_cpy.isnull().sum()"
      ],
      "id": "9904b0db",
      "execution_count": null,
      "outputs": [
        {
          "data": {
            "text/plain": [
              "Name            0\n",
              "JobTitle        0\n",
              "AgencyID        0\n",
              "Agency          0\n",
              "HireDate        0\n",
              "AnnualSalary    0\n",
              "dtype: int64"
            ]
          },
          "execution_count": 9,
          "metadata": {},
          "output_type": "execute_result"
        }
      ]
    },
    {
      "cell_type": "code",
      "metadata": {
        "id": "7aad4859"
      },
      "source": [
        "# Removing $ from Annual Salary and converting it into Integer format\n",
        "salary_cpy['AnnualSalary'] = salary_cpy['AnnualSalary'].apply(lambda x : (float)(str(x)[1:]))"
      ],
      "id": "7aad4859",
      "execution_count": null,
      "outputs": []
    },
    {
      "cell_type": "code",
      "metadata": {
        "id": "158f0254",
        "outputId": "e22ab9e5-5689-4543-fa46-c71f55480506"
      },
      "source": [
        "#Value counts on Annual Salary\n",
        "salary_cpy.AnnualSalary.value_counts()"
      ],
      "id": "158f0254",
      "execution_count": null,
      "outputs": [
        {
          "data": {
            "text/plain": [
              "11310.0    4811\n",
              "20800.0     325\n",
              "29245.0     196\n",
              "43999.0     169\n",
              "44773.0     162\n",
              "           ... \n",
              "26774.0       1\n",
              "81120.0       1\n",
              "44000.0       1\n",
              "58041.0       1\n",
              "83370.0       1\n",
              "Name: AnnualSalary, Length: 1590, dtype: int64"
            ]
          },
          "execution_count": 16,
          "metadata": {},
          "output_type": "execute_result"
        }
      ]
    },
    {
      "cell_type": "code",
      "metadata": {
        "id": "b86771ea",
        "outputId": "28105678-9aa8-42fb-a0eb-58a604a5815e"
      },
      "source": [
        "salary_cpy['HireDay'] = salary_cpy['HireDate'].apply(lambda x : (int)(str(x[3:5])))\n",
        "salary_cpy['HireMonth'] = salary_cpy['HireDate'].apply(lambda x : (int)(str(x[0:2])))\n",
        "salary_cpy['HireYear'] = salary_cpy['HireDate'].apply(lambda x : (int)(str(x[6:])))\n",
        "\n",
        "# Print info to check whether columns are added\n",
        "salary_cpy.info()\n"
      ],
      "id": "b86771ea",
      "execution_count": null,
      "outputs": [
        {
          "name": "stdout",
          "output_type": "stream",
          "text": [
            "<class 'pandas.core.frame.DataFrame'>\n",
            "Int64Index: 18911 entries, 0 to 18980\n",
            "Data columns (total 9 columns):\n",
            " #   Column        Non-Null Count  Dtype  \n",
            "---  ------        --------------  -----  \n",
            " 0   Name          18911 non-null  object \n",
            " 1   JobTitle      18911 non-null  object \n",
            " 2   AgencyID      18911 non-null  object \n",
            " 3   Agency        18911 non-null  object \n",
            " 4   HireDate      18911 non-null  object \n",
            " 5   AnnualSalary  18911 non-null  float64\n",
            " 6   HireDay       18911 non-null  int64  \n",
            " 7   HireMonth     18911 non-null  int64  \n",
            " 8   HireYear      18911 non-null  int64  \n",
            "dtypes: float64(1), int64(3), object(5)\n",
            "memory usage: 1.4+ MB\n"
          ]
        }
      ]
    },
    {
      "cell_type": "code",
      "metadata": {
        "id": "d631dd2a"
      },
      "source": [
        "# Trim spaces\n",
        "salary_cpy['JobTitle'] = salary_cpy['JobTitle'].apply(lambda x : str(x).strip().replace(\"  \",\" \"))\n",
        "salary_cpy['AgencyID'] = salary_cpy['AgencyID'].apply(lambda x : str(x).strip().replace(\"  \",\" \"))\n",
        "salary_cpy['Agency'] = salary_cpy['Agency'].apply(lambda x : str(x).strip().replace(\"  \",\" \"))"
      ],
      "id": "d631dd2a",
      "execution_count": null,
      "outputs": []
    },
    {
      "cell_type": "code",
      "metadata": {
        "id": "d7c40008"
      },
      "source": [
        "# Trim spaces\n",
        "salary_cpy['JobTitle'] = salary_cpy['JobTitle'].apply(lambda x : str(x).upper())\n",
        "salary_cpy['AgencyID'] = salary_cpy['AgencyID'].apply(lambda x : str(x).upper())\n",
        "salary_cpy['Agency'] = salary_cpy['Agency'].apply(lambda x : str(x).upper())"
      ],
      "id": "d7c40008",
      "execution_count": null,
      "outputs": []
    },
    {
      "cell_type": "code",
      "metadata": {
        "id": "63584ddf",
        "outputId": "63ba95d4-1867-42ad-f57b-dd295d3ea22b"
      },
      "source": [
        "# Create Box Plot for Annual Salary\n",
        "salary_cpy.AnnualSalary.plot.box()\n",
        "plt.show()"
      ],
      "id": "63584ddf",
      "execution_count": null,
      "outputs": [
        {
          "data": {
            "text/plain": [
              "<AxesSubplot:>"
            ]
          },
          "execution_count": 20,
          "metadata": {},
          "output_type": "execute_result"
        },
        {
          "data": {
            "image/png": "[encoded data removed]",
            "text/plain": [
              "<Figure size 432x288 with 1 Axes>"
            ]
          },
          "metadata": {
            "needs_background": "light"
          },
          "output_type": "display_data"
        }
      ]
    },
    {
      "cell_type": "code",
      "metadata": {
        "id": "595ab577",
        "outputId": "80c2ce74-e3a8-414f-ef59-0afe0b40c6e0"
      },
      "source": [
        "# SUMMARY STATS OF AnnualSalary\n",
        "salary_cpy.AnnualSalary.describe()"
      ],
      "id": "595ab577",
      "execution_count": null,
      "outputs": [
        {
          "data": {
            "text/plain": [
              "count     18911.000000\n",
              "mean      39660.421889\n",
              "std       25163.465942\n",
              "min           0.000000\n",
              "25%       11310.000000\n",
              "50%       36203.000000\n",
              "75%       60300.000000\n",
              "max      238772.000000\n",
              "Name: AnnualSalary, dtype: float64"
            ]
          },
          "execution_count": 21,
          "metadata": {},
          "output_type": "execute_result"
        }
      ]
    },
    {
      "cell_type": "markdown",
      "metadata": {
        "id": "8e570069"
      },
      "source": [
        "The max value way more than mean , median .\n",
        "\n"
      ],
      "id": "8e570069"
    },
    {
      "cell_type": "code",
      "metadata": {
        "id": "a34b7f8c",
        "outputId": "a822c68a-d4cd-43d2-8c71-a57ca5631802"
      },
      "source": [
        "salary_cpy = salary_cpy[salary_cpy['AnnualSalary']<150000]\n",
        "salary_cpy.shape"
      ],
      "id": "a34b7f8c",
      "execution_count": null,
      "outputs": [
        {
          "data": {
            "text/plain": [
              "(18895, 9)"
            ]
          },
          "execution_count": 22,
          "metadata": {},
          "output_type": "execute_result"
        }
      ]
    },
    {
      "cell_type": "code",
      "metadata": {
        "id": "8c1a2430",
        "outputId": "3b02db25-36c3-48b9-ab88-ad6a680414fa"
      },
      "source": [
        "# Create Box Plot for Annual Salary\n",
        "salary_cpy.AnnualSalary.plot.box()\n",
        "plt.show()"
      ],
      "id": "8c1a2430",
      "execution_count": null,
      "outputs": [
        {
          "data": {
            "image/png": "[encoded data removed]",
            "text/plain": [
              "<Figure size 432x288 with 1 Axes>"
            ]
          },
          "metadata": {
            "needs_background": "light"
          },
          "output_type": "display_data"
        }
      ]
    },
    {
      "cell_type": "code",
      "metadata": {
        "id": "51ca209b",
        "outputId": "21a7bd33-4bc7-4908-d537-26f8ec7155e5"
      },
      "source": [
        "#Top 10 Jobs that based on hirings\n",
        "plt.figure(figsize=(10,5))\n",
        "salary_cpy.groupby(['JobTitle'])['Name'].count().sort_values(ascending=False).head(10).plot.bar()\n",
        "plt.ylabel('No of people Working')\n",
        "plt.title(\"Top 10 Jobs for which Hiring is Highest\",fontsize=20)\n",
        "plt.show()"
      ],
      "id": "51ca209b",
      "execution_count": null,
      "outputs": [
        {
          "data": {
            "image/png": "[encoded data removed]",
            "text/plain": [
              "<Figure size 720x360 with 1 Axes>"
            ]
          },
          "metadata": {
            "needs_background": "light"
          },
          "output_type": "display_data"
        }
      ]
    },
    {
      "cell_type": "markdown",
      "metadata": {
        "id": "a3f9bde9"
      },
      "source": [
        "- The above plot clearly shows more number of People are working as AIDE BLUE CHIP which  has over double the workers working as POLICE OFFICER which is second Highest\n",
        "- All the remaining JobTitles have less than 1000 Workers "
      ],
      "id": "a3f9bde9"
    },
    {
      "cell_type": "code",
      "metadata": {
        "id": "1ba25aff",
        "outputId": "b91d7f62-6c26-40a8-86d0-b63b8dea254a"
      },
      "source": [
        "#Top 10 Jobs that fetche highest Salary\n",
        "plt.figure(figsize=(10,5))\n",
        "salary_cpy.groupby(['JobTitle'])['AnnualSalary'].mean().sort_values(ascending=False).head(10).plot.bar()\n",
        "plt.ylabel('Avg Salary')\n",
        "plt.title(\"Top 10 Highest Paying Jobs\",fontsize=20)\n",
        "plt.show()"
      ],
      "id": "1ba25aff",
      "execution_count": null,
      "outputs": [
        {
          "data": {
            "image/png": "[encoded data removed]",
            "text/plain": [
              "<Figure size 720x360 with 1 Axes>"
            ]
          },
          "metadata": {
            "needs_background": "light"
          },
          "output_type": "display_data"
        }
      ]
    },
    {
      "cell_type": "markdown",
      "metadata": {
        "id": "33284c15"
      },
      "source": [
        " - The above plot clearly shows top 10 Jobs which fetch the highest Salary."
      ],
      "id": "33284c15"
    },
    {
      "cell_type": "code",
      "metadata": {
        "id": "bdf7a484",
        "outputId": "b0cb0c94-b29c-43df-8f5f-7cd9ec40b0f9"
      },
      "source": [
        "#Top 10 Agencies that has highest number of employees\n",
        "plt.figure(figsize=(10,5))\n",
        "salary_cpy.groupby(['Agency'])['Name'].count().sort_values(ascending=False).head(10).plot.bar()\n",
        "plt.ylabel('No Of Employees')\n",
        "plt.title(\"Top Agencies with Highest number of Employees\",fontsize=18)\n",
        "plt.show()"
      ],
      "id": "bdf7a484",
      "execution_count": null,
      "outputs": [
        {
          "data": {
            "image/png": "[encoded data removed]",
            "text/plain": [
              "<Figure size 720x360 with 1 Axes>"
            ]
          },
          "metadata": {
            "needs_background": "light"
          },
          "output_type": "display_data"
        }
      ]
    },
    {
      "cell_type": "markdown",
      "metadata": {
        "id": "7156d171"
      },
      "source": [
        " - The Youth Summer has maximum number of employees followed by Police Department\n",
        " - Fire Department and DPW - Water & Waste Water has almost same number of employees"
      ],
      "id": "7156d171"
    },
    {
      "cell_type": "code",
      "metadata": {
        "id": "75d97baf",
        "outputId": "5e2a8673-2c78-42e3-bf2b-d17c62eabcdf"
      },
      "source": [
        "#Top 10 Jobs that has highest number of employees\n",
        "plt.figure(figsize=(10,5))\n",
        "salary_cpy.groupby(['AgencyID'])['Name'].count().sort_values(ascending=False).head(10).plot.bar()\n",
        "plt.ylabel('No Of Employees')\n",
        "plt.title(\"Top AgencyID's with Highest number of Employees\",fontsize=18)\n",
        "plt.show()"
      ],
      "id": "75d97baf",
      "execution_count": null,
      "outputs": [
        {
          "data": {
            "image/png": "[encoded data removed]",
            "text/plain": [
              "<Figure size 720x360 with 1 Axes>"
            ]
          },
          "metadata": {
            "needs_background": "light"
          },
          "output_type": "display_data"
        }
      ]
    },
    {
      "cell_type": "markdown",
      "metadata": {
        "id": "1fb1ff44"
      },
      "source": [
        " - The P04001 has maximum number of employees followed by C90786"
      ],
      "id": "1fb1ff44"
    },
    {
      "cell_type": "code",
      "metadata": {
        "id": "757801ec",
        "outputId": "41350c3b-e676-4184-fb4a-304bd698a8b9"
      },
      "source": [
        "# Salary vs Hire Year\n",
        "plt.figure(figsize=(10,5))\n",
        "salary_cpy.groupby(['HireYear'])['AnnualSalary'].mean().sort_values().head(10).plot.bar()\n",
        "plt.ylabel(' AverageSalary')\n",
        "plt.title(\"Average Salary of Employees based on Hire Year\",fontsize=18)\n",
        "plt.show()"
      ],
      "id": "757801ec",
      "execution_count": null,
      "outputs": [
        {
          "data": {
            "image/png": "[encoded data removed]",
            "text/plain": [
              "<Figure size 720x360 with 1 Axes>"
            ]
          },
          "metadata": {
            "needs_background": "light"
          },
          "output_type": "display_data"
        }
      ]
    },
    {
      "cell_type": "markdown",
      "metadata": {
        "id": "9448b698"
      },
      "source": [
        " - The trend above Suggests that the Salary of the employees increases with experience in the company. So now lets calculate experience in days with Agency."
      ],
      "id": "9448b698"
    },
    {
      "cell_type": "code",
      "metadata": {
        "id": "366c167b",
        "outputId": "1c6e9f17-a163-4e16-fcf9-45d4687db015"
      },
      "source": [
        "# Checking if Month hired has any such effect\n",
        "plt.figure(figsize=(10,5))\n",
        "salary_cpy.groupby(['HireMonth'])['AnnualSalary'].mean().plot.bar()\n",
        "plt.ylabel('Average Salary')\n",
        "plt.title(\"Average Salary of Employees based on Hire Month\",fontsize=18)\n",
        "plt.show()"
      ],
      "id": "366c167b",
      "execution_count": null,
      "outputs": [
        {
          "data": {
            "image/png": "[encoded data removed]",
            "text/plain": [
              "<Figure size 720x360 with 1 Axes>"
            ]
          },
          "metadata": {
            "needs_background": "light"
          },
          "output_type": "display_data"
        }
      ]
    },
    {
      "cell_type": "markdown",
      "metadata": {
        "id": "21d847e1"
      },
      "source": [
        "- Except in Months 5 and 6 the distribution is same throughout.\n",
        "- This might be because big agencies donot hire during that time"
      ],
      "id": "21d847e1"
    },
    {
      "cell_type": "code",
      "metadata": {
        "id": "e024e87b",
        "outputId": "0bab1b40-ea77-4625-f93d-98aa13c907ec"
      },
      "source": [
        "# Checking on which Month most people are hired\n",
        "plt.figure(figsize=(10,5))\n",
        "salary_cpy.groupby(['HireMonth'])['Name'].count().plot.bar()\n",
        "plt.ylabel('Numer of Hired')\n",
        "plt.title(\"Employers Hirings based on Hire Year\",fontsize=20)\n",
        "plt.show()"
      ],
      "id": "e024e87b",
      "execution_count": null,
      "outputs": [
        {
          "data": {
            "image/png": "[encoded data removed]",
            "text/plain": [
              "<Figure size 720x360 with 1 Axes>"
            ]
          },
          "metadata": {
            "needs_background": "light"
          },
          "output_type": "display_data"
        }
      ]
    },
    {
      "cell_type": "markdown",
      "metadata": {
        "id": "a063ffd5"
      },
      "source": [
        " -  More members are being hired in months of May and June but they have relatively lower average salaries"
      ],
      "id": "a063ffd5"
    },
    {
      "cell_type": "code",
      "metadata": {
        "id": "4de40470",
        "outputId": "e7a78357-c95c-4f7a-aaa0-c962a2a94c01"
      },
      "source": [
        "# Apply mean encoding for Job Title\n",
        "mean_Job = salary_master.groupby('JobTitle')['AnnualSalary'].mean()\n",
        "salary_master['JobTitle'] = salary_master['JobTitle'].map(mean_Job)\n",
        "\n",
        "print(salary_master['JobTitle'])"
      ],
      "id": "4de40470",
      "execution_count": null,
      "outputs": [
        {
          "name": "stdout",
          "output_type": "stream",
          "text": [
            "0        11313.967200\n",
            "1        47443.500000\n",
            "2        69750.666667\n",
            "3        57940.000000\n",
            "4        44531.160494\n",
            "             ...     \n",
            "18976    11313.967200\n",
            "18977    11313.967200\n",
            "18978    44531.160494\n",
            "18979    60588.139335\n",
            "18980    53368.428571\n",
            "Name: JobTitle, Length: 18895, dtype: float64\n"
          ]
        }
      ]
    },
    {
      "cell_type": "code",
      "metadata": {
        "id": "4e0514f2",
        "outputId": "5392d677-b044-4cd5-841f-12abe4c96c6f"
      },
      "source": [
        "# Apply mean encoding for Agency\n",
        "mean_agency = salary_master.groupby('Agency')['AnnualSalary'].mean()\n",
        "salary_master['Agency'] = salary_master['Agency'].map(mean_agency)\n",
        "\n",
        "print(salary_master['Agency'])"
      ],
      "id": "4e0514f2",
      "execution_count": null,
      "outputs": [
        {
          "name": "stdout",
          "output_type": "stream",
          "text": [
            "0        11313.967200\n",
            "1        51495.424242\n",
            "2        64874.560224\n",
            "3        39980.900360\n",
            "4        61506.879579\n",
            "             ...     \n",
            "18976    11313.967200\n",
            "18977    11313.967200\n",
            "18978    61506.879579\n",
            "18979    61506.879579\n",
            "18980    42565.513078\n",
            "Name: Agency, Length: 18895, dtype: float64\n"
          ]
        }
      ]
    },
    {
      "cell_type": "code",
      "metadata": {
        "id": "23766b39",
        "outputId": "c1ae6185-cf9c-4523-8e53-2b75c573f379"
      },
      "source": [
        "# Apply mean encoding for AgencyID\n",
        "mean_agencyID = salary_master.groupby('AgencyID')['AnnualSalary'].mean()\n",
        "salary_master['AgencyID'] = salary_master['AgencyID'].map(mean_agencyID)\n",
        "\n",
        "print(salary_master['AgencyID'])"
      ],
      "id": "23766b39",
      "execution_count": null,
      "outputs": [
        {
          "name": "stdout",
          "output_type": "stream",
          "text": [
            "0        11310.000000\n",
            "1        46667.000000\n",
            "2        65926.133333\n",
            "3        48071.851064\n",
            "4        44012.307229\n",
            "             ...     \n",
            "18976    11310.000000\n",
            "18977    11310.000000\n",
            "18978    44012.307229\n",
            "18979    60203.340426\n",
            "18980    42407.562500\n",
            "Name: AgencyID, Length: 18895, dtype: float64\n"
          ]
        }
      ]
    },
    {
      "cell_type": "markdown",
      "metadata": {
        "id": "5a2d2891"
      },
      "source": [
        "We have converted all the required categorical variables to Numerical variables. Lets check the info to check if trhere are any non-numeric variables"
      ],
      "id": "5a2d2891"
    },
    {
      "cell_type": "code",
      "metadata": {
        "id": "0ce65368",
        "outputId": "9c156205-dc4e-4f03-b7a1-c6dbc529b577"
      },
      "source": [
        "# Check info\n",
        "salary_master.info()"
      ],
      "id": "0ce65368",
      "execution_count": null,
      "outputs": [
        {
          "name": "stdout",
          "output_type": "stream",
          "text": [
            "<class 'pandas.core.frame.DataFrame'>\n",
            "Int64Index: 18895 entries, 0 to 18980\n",
            "Data columns (total 9 columns):\n",
            " #   Column        Non-Null Count  Dtype  \n",
            "---  ------        --------------  -----  \n",
            " 0   Name          18895 non-null  object \n",
            " 1   JobTitle      18895 non-null  float64\n",
            " 2   AgencyID      18895 non-null  float64\n",
            " 3   Agency        18895 non-null  float64\n",
            " 4   HireDate      18895 non-null  object \n",
            " 5   AnnualSalary  18895 non-null  float64\n",
            " 6   HireDay       18895 non-null  int64  \n",
            " 7   HireMonth     18895 non-null  int64  \n",
            " 8   HireYear      18895 non-null  int64  \n",
            "dtypes: float64(4), int64(3), object(2)\n",
            "memory usage: 1.4+ MB\n"
          ]
        }
      ]
    },
    {
      "cell_type": "code",
      "metadata": {
        "scrolled": true,
        "id": "8e7b9768",
        "outputId": "aacf0b54-c526-4c94-ccfc-dd0117d75e8d"
      },
      "source": [
        "# Drop Name, HireDate column\n",
        "salary_master = salary_master.drop(['HireDate','Name'],axis=1)\n",
        "\n",
        "# Check Info\n",
        "salary_master.info()"
      ],
      "id": "8e7b9768",
      "execution_count": null,
      "outputs": [
        {
          "name": "stdout",
          "output_type": "stream",
          "text": [
            "<class 'pandas.core.frame.DataFrame'>\n",
            "Int64Index: 18895 entries, 0 to 18980\n",
            "Data columns (total 7 columns):\n",
            " #   Column        Non-Null Count  Dtype  \n",
            "---  ------        --------------  -----  \n",
            " 0   JobTitle      18895 non-null  float64\n",
            " 1   AgencyID      18895 non-null  float64\n",
            " 2   Agency        18895 non-null  float64\n",
            " 3   AnnualSalary  18895 non-null  float64\n",
            " 4   HireDay       18895 non-null  int64  \n",
            " 5   HireMonth     18895 non-null  int64  \n",
            " 6   HireYear      18895 non-null  int64  \n",
            "dtypes: float64(4), int64(3)\n",
            "memory usage: 1.2 MB\n"
          ]
        }
      ]
    },
    {
      "cell_type": "code",
      "metadata": {
        "id": "870e7902"
      },
      "source": [
        "# Split data into train and test sets\n",
        "salary_train, salary_test = train_test_split(salary_master,train_size=0.7, random_state=42)"
      ],
      "id": "870e7902",
      "execution_count": null,
      "outputs": []
    },
    {
      "cell_type": "code",
      "metadata": {
        "id": "3bff957b",
        "outputId": "c34ff0ba-ff08-4575-de83-f7320a9f7bac"
      },
      "source": [
        "# Shape of train set\n",
        "print(salary_train.shape)\n",
        "\n",
        "# Shape of test set\n",
        "print(salary_test.shape)"
      ],
      "id": "3bff957b",
      "execution_count": null,
      "outputs": [
        {
          "name": "stdout",
          "output_type": "stream",
          "text": [
            "(13226, 7)\n",
            "(5669, 7)\n"
          ]
        }
      ]
    },
    {
      "cell_type": "code",
      "metadata": {
        "id": "cfe00b98"
      },
      "source": [
        "# Divide tarin set into Dependent and independent variables\n",
        "y_train = salary_train.pop('AnnualSalary')\n",
        "\n",
        "X_train = salary_train\n",
        "\n",
        "\n",
        "# Divide test set into Dependent and independent variables\n",
        "y_test = salary_test.pop('AnnualSalary')\n",
        "\n",
        "X_test = salary_test"
      ],
      "id": "cfe00b98",
      "execution_count": null,
      "outputs": []
    },
    {
      "cell_type": "code",
      "metadata": {
        "id": "0e921752",
        "outputId": "716ba63d-8afb-480c-f501-22da9ba1168d"
      },
      "source": [
        "# Scale the train\n",
        "scaler = StandardScaler()\n",
        "\n",
        "X_train[X_train.columns] = scaler.fit_transform(X_train[X_train.columns])\n",
        "\n",
        "X_train.describe()"
      ],
      "id": "0e921752",
      "execution_count": null,
      "outputs": [
        {
          "data": {
            "text/html": [
              "<div>\n",
              "<style scoped>\n",
              "    .dataframe tbody tr th:only-of-type {\n",
              "        vertical-align: middle;\n",
              "    }\n",
              "\n",
              "    .dataframe tbody tr th {\n",
              "        vertical-align: top;\n",
              "    }\n",
              "\n",
              "    .dataframe thead th {\n",
              "        text-align: right;\n",
              "    }\n",
              "</style>\n",
              "<table border=\"1\" class=\"dataframe\">\n",
              "  <thead>\n",
              "    <tr style=\"text-align: right;\">\n",
              "      <th></th>\n",
              "      <th>JobTitle</th>\n",
              "      <th>AgencyID</th>\n",
              "      <th>Agency</th>\n",
              "      <th>HireDay</th>\n",
              "      <th>HireMonth</th>\n",
              "      <th>HireYear</th>\n",
              "    </tr>\n",
              "  </thead>\n",
              "  <tbody>\n",
              "    <tr>\n",
              "      <th>count</th>\n",
              "      <td>1.322600e+04</td>\n",
              "      <td>1.322600e+04</td>\n",
              "      <td>1.322600e+04</td>\n",
              "      <td>1.322600e+04</td>\n",
              "      <td>1.322600e+04</td>\n",
              "      <td>1.322600e+04</td>\n",
              "    </tr>\n",
              "    <tr>\n",
              "      <th>mean</th>\n",
              "      <td>3.410750e-16</td>\n",
              "      <td>-2.445580e-16</td>\n",
              "      <td>-3.068769e-16</td>\n",
              "      <td>-1.107999e-16</td>\n",
              "      <td>-4.932039e-17</td>\n",
              "      <td>1.091302e-14</td>\n",
              "    </tr>\n",
              "    <tr>\n",
              "      <th>std</th>\n",
              "      <td>1.000038e+00</td>\n",
              "      <td>1.000038e+00</td>\n",
              "      <td>1.000038e+00</td>\n",
              "      <td>1.000038e+00</td>\n",
              "      <td>1.000038e+00</td>\n",
              "      <td>1.000038e+00</td>\n",
              "    </tr>\n",
              "    <tr>\n",
              "      <th>min</th>\n",
              "      <td>-1.539463e+00</td>\n",
              "      <td>-1.685751e+00</td>\n",
              "      <td>-1.397984e+00</td>\n",
              "      <td>-1.766448e+00</td>\n",
              "      <td>-1.833646e+00</td>\n",
              "      <td>-5.029261e+00</td>\n",
              "    </tr>\n",
              "    <tr>\n",
              "      <th>25%</th>\n",
              "      <td>-1.158100e+00</td>\n",
              "      <td>-1.267888e+00</td>\n",
              "      <td>-1.346520e+00</td>\n",
              "      <td>-8.105477e-01</td>\n",
              "      <td>-4.721605e-01</td>\n",
              "      <td>-5.883256e-01</td>\n",
              "    </tr>\n",
              "    <tr>\n",
              "      <th>50%</th>\n",
              "      <td>-1.476380e-01</td>\n",
              "      <td>8.407664e-02</td>\n",
              "      <td>1.434622e-01</td>\n",
              "      <td>2.586518e-02</td>\n",
              "      <td>-1.317891e-01</td>\n",
              "      <td>2.805530e-01</td>\n",
              "    </tr>\n",
              "    <tr>\n",
              "      <th>75%</th>\n",
              "      <td>8.594492e-01</td>\n",
              "      <td>9.050343e-01</td>\n",
              "      <td>1.046531e+00</td>\n",
              "      <td>7.427905e-01</td>\n",
              "      <td>8.893253e-01</td>\n",
              "      <td>8.598055e-01</td>\n",
              "    </tr>\n",
              "    <tr>\n",
              "      <th>max</th>\n",
              "      <td>4.147233e+00</td>\n",
              "      <td>4.629334e+00</td>\n",
              "      <td>2.237763e+00</td>\n",
              "      <td>1.818178e+00</td>\n",
              "      <td>1.910440e+00</td>\n",
              "      <td>9.563475e-01</td>\n",
              "    </tr>\n",
              "  </tbody>\n",
              "</table>\n",
              "</div>"
            ],
            "text/plain": [
              "           JobTitle      AgencyID        Agency       HireDay     HireMonth  \\\n",
              "count  1.322600e+04  1.322600e+04  1.322600e+04  1.322600e+04  1.322600e+04   \n",
              "mean   3.410750e-16 -2.445580e-16 -3.068769e-16 -1.107999e-16 -4.932039e-17   \n",
              "std    1.000038e+00  1.000038e+00  1.000038e+00  1.000038e+00  1.000038e+00   \n",
              "min   -1.539463e+00 -1.685751e+00 -1.397984e+00 -1.766448e+00 -1.833646e+00   \n",
              "25%   -1.158100e+00 -1.267888e+00 -1.346520e+00 -8.105477e-01 -4.721605e-01   \n",
              "50%   -1.476380e-01  8.407664e-02  1.434622e-01  2.586518e-02 -1.317891e-01   \n",
              "75%    8.594492e-01  9.050343e-01  1.046531e+00  7.427905e-01  8.893253e-01   \n",
              "max    4.147233e+00  4.629334e+00  2.237763e+00  1.818178e+00  1.910440e+00   \n",
              "\n",
              "           HireYear  \n",
              "count  1.322600e+04  \n",
              "mean   1.091302e-14  \n",
              "std    1.000038e+00  \n",
              "min   -5.029261e+00  \n",
              "25%   -5.883256e-01  \n",
              "50%    2.805530e-01  \n",
              "75%    8.598055e-01  \n",
              "max    9.563475e-01  "
            ]
          },
          "execution_count": 74,
          "metadata": {},
          "output_type": "execute_result"
        }
      ]
    },
    {
      "cell_type": "code",
      "metadata": {
        "id": "7660b80e",
        "outputId": "815d31f3-43ba-42ae-9ca7-d8ef5b51f920"
      },
      "source": [
        "# # Scale the test\n",
        "X_test[X_test.columns] = scaler.transform(X_test[X_test.columns])\n",
        "\n",
        "X_test.describe()"
      ],
      "id": "7660b80e",
      "execution_count": null,
      "outputs": [
        {
          "data": {
            "text/html": [
              "<div>\n",
              "<style scoped>\n",
              "    .dataframe tbody tr th:only-of-type {\n",
              "        vertical-align: middle;\n",
              "    }\n",
              "\n",
              "    .dataframe tbody tr th {\n",
              "        vertical-align: top;\n",
              "    }\n",
              "\n",
              "    .dataframe thead th {\n",
              "        text-align: right;\n",
              "    }\n",
              "</style>\n",
              "<table border=\"1\" class=\"dataframe\">\n",
              "  <thead>\n",
              "    <tr style=\"text-align: right;\">\n",
              "      <th></th>\n",
              "      <th>JobTitle</th>\n",
              "      <th>AgencyID</th>\n",
              "      <th>Agency</th>\n",
              "      <th>HireDay</th>\n",
              "      <th>HireMonth</th>\n",
              "      <th>HireYear</th>\n",
              "    </tr>\n",
              "  </thead>\n",
              "  <tbody>\n",
              "    <tr>\n",
              "      <th>count</th>\n",
              "      <td>5669.000000</td>\n",
              "      <td>5669.000000</td>\n",
              "      <td>5669.000000</td>\n",
              "      <td>5669.000000</td>\n",
              "      <td>5669.000000</td>\n",
              "      <td>5669.000000</td>\n",
              "    </tr>\n",
              "    <tr>\n",
              "      <th>mean</th>\n",
              "      <td>-0.006849</td>\n",
              "      <td>-0.001602</td>\n",
              "      <td>-0.001378</td>\n",
              "      <td>-0.007458</td>\n",
              "      <td>-0.019873</td>\n",
              "      <td>-0.005037</td>\n",
              "    </tr>\n",
              "    <tr>\n",
              "      <th>std</th>\n",
              "      <td>0.987928</td>\n",
              "      <td>0.997438</td>\n",
              "      <td>1.003394</td>\n",
              "      <td>1.006810</td>\n",
              "      <td>1.011997</td>\n",
              "      <td>1.010818</td>\n",
              "    </tr>\n",
              "    <tr>\n",
              "      <th>min</th>\n",
              "      <td>-1.539463</td>\n",
              "      <td>-1.685751</td>\n",
              "      <td>-1.397984</td>\n",
              "      <td>-1.766448</td>\n",
              "      <td>-1.833646</td>\n",
              "      <td>-4.160382</td>\n",
              "    </tr>\n",
              "    <tr>\n",
              "      <th>25%</th>\n",
              "      <td>-1.158100</td>\n",
              "      <td>-1.267888</td>\n",
              "      <td>-1.346520</td>\n",
              "      <td>-0.810548</td>\n",
              "      <td>-0.472161</td>\n",
              "      <td>-0.588326</td>\n",
              "    </tr>\n",
              "    <tr>\n",
              "      <th>50%</th>\n",
              "      <td>-0.143918</td>\n",
              "      <td>0.097496</td>\n",
              "      <td>0.143462</td>\n",
              "      <td>0.025865</td>\n",
              "      <td>-0.131789</td>\n",
              "      <td>0.280553</td>\n",
              "    </tr>\n",
              "    <tr>\n",
              "      <th>75%</th>\n",
              "      <td>0.859449</td>\n",
              "      <td>0.889358</td>\n",
              "      <td>1.046531</td>\n",
              "      <td>0.742790</td>\n",
              "      <td>0.548954</td>\n",
              "      <td>0.859805</td>\n",
              "    </tr>\n",
              "    <tr>\n",
              "      <th>max</th>\n",
              "      <td>4.045484</td>\n",
              "      <td>3.121863</td>\n",
              "      <td>2.237763</td>\n",
              "      <td>1.818178</td>\n",
              "      <td>1.910440</td>\n",
              "      <td>0.956348</td>\n",
              "    </tr>\n",
              "  </tbody>\n",
              "</table>\n",
              "</div>"
            ],
            "text/plain": [
              "          JobTitle     AgencyID       Agency      HireDay    HireMonth  \\\n",
              "count  5669.000000  5669.000000  5669.000000  5669.000000  5669.000000   \n",
              "mean     -0.006849    -0.001602    -0.001378    -0.007458    -0.019873   \n",
              "std       0.987928     0.997438     1.003394     1.006810     1.011997   \n",
              "min      -1.539463    -1.685751    -1.397984    -1.766448    -1.833646   \n",
              "25%      -1.158100    -1.267888    -1.346520    -0.810548    -0.472161   \n",
              "50%      -0.143918     0.097496     0.143462     0.025865    -0.131789   \n",
              "75%       0.859449     0.889358     1.046531     0.742790     0.548954   \n",
              "max       4.045484     3.121863     2.237763     1.818178     1.910440   \n",
              "\n",
              "          HireYear  \n",
              "count  5669.000000  \n",
              "mean     -0.005037  \n",
              "std       1.010818  \n",
              "min      -4.160382  \n",
              "25%      -0.588326  \n",
              "50%       0.280553  \n",
              "75%       0.859805  \n",
              "max       0.956348  "
            ]
          },
          "execution_count": 75,
          "metadata": {},
          "output_type": "execute_result"
        }
      ]
    },
    {
      "cell_type": "markdown",
      "metadata": {
        "id": "3a6f8e6d"
      },
      "source": [
        "#### Let's see how a Linear Regression Works"
      ],
      "id": "3a6f8e6d"
    },
    {
      "cell_type": "code",
      "metadata": {
        "id": "4793bfb1",
        "outputId": "b2609228-6f1c-4b42-a3a0-fb841120e5a3"
      },
      "source": [
        "# A sample Data Frame\n",
        "example_df = pd.DataFrame({'Performance' : [1,2,3,4,5,6], 'Grade':[2,5,4,6,1,3],'Target':[100,300,200,600,200,600]})\n",
        "example_df"
      ],
      "id": "4793bfb1",
      "execution_count": null,
      "outputs": [
        {
          "data": {
            "text/html": [
              "<div>\n",
              "<style scoped>\n",
              "    .dataframe tbody tr th:only-of-type {\n",
              "        vertical-align: middle;\n",
              "    }\n",
              "\n",
              "    .dataframe tbody tr th {\n",
              "        vertical-align: top;\n",
              "    }\n",
              "\n",
              "    .dataframe thead th {\n",
              "        text-align: right;\n",
              "    }\n",
              "</style>\n",
              "<table border=\"1\" class=\"dataframe\">\n",
              "  <thead>\n",
              "    <tr style=\"text-align: right;\">\n",
              "      <th></th>\n",
              "      <th>Performance</th>\n",
              "      <th>Grade</th>\n",
              "      <th>Target</th>\n",
              "    </tr>\n",
              "  </thead>\n",
              "  <tbody>\n",
              "    <tr>\n",
              "      <th>0</th>\n",
              "      <td>1</td>\n",
              "      <td>2</td>\n",
              "      <td>100</td>\n",
              "    </tr>\n",
              "    <tr>\n",
              "      <th>1</th>\n",
              "      <td>2</td>\n",
              "      <td>5</td>\n",
              "      <td>300</td>\n",
              "    </tr>\n",
              "    <tr>\n",
              "      <th>2</th>\n",
              "      <td>3</td>\n",
              "      <td>4</td>\n",
              "      <td>200</td>\n",
              "    </tr>\n",
              "    <tr>\n",
              "      <th>3</th>\n",
              "      <td>4</td>\n",
              "      <td>6</td>\n",
              "      <td>600</td>\n",
              "    </tr>\n",
              "    <tr>\n",
              "      <th>4</th>\n",
              "      <td>5</td>\n",
              "      <td>1</td>\n",
              "      <td>200</td>\n",
              "    </tr>\n",
              "    <tr>\n",
              "      <th>5</th>\n",
              "      <td>6</td>\n",
              "      <td>3</td>\n",
              "      <td>600</td>\n",
              "    </tr>\n",
              "  </tbody>\n",
              "</table>\n",
              "</div>"
            ],
            "text/plain": [
              "   Performance  Grade  Target\n",
              "0            1      2     100\n",
              "1            2      5     300\n",
              "2            3      4     200\n",
              "3            4      6     600\n",
              "4            5      1     200\n",
              "5            6      3     600"
            ]
          },
          "execution_count": 124,
          "metadata": {},
          "output_type": "execute_result"
        }
      ]
    },
    {
      "cell_type": "code",
      "metadata": {
        "id": "725fe08f"
      },
      "source": [
        "# Create a model by creating a Linear Regression Object\n",
        "example_lr = LinearRegression()\n",
        "\n",
        "example_model = example_lr.fit(example_df[['Performance','Grade']],example_df['Target'])"
      ],
      "id": "725fe08f",
      "execution_count": null,
      "outputs": []
    },
    {
      "cell_type": "code",
      "metadata": {
        "id": "0a47e9f4",
        "outputId": "27e58bfc-5c01-4467-deac-ac20edaae92d"
      },
      "source": [
        "# Lets have a look at coefficients as described\n",
        "print(example_lr.coef_)\n",
        "print(example_lr.intercept_)"
      ],
      "id": "0a47e9f4",
      "execution_count": null,
      "outputs": [
        {
          "name": "stdout",
          "output_type": "stream",
          "text": [
            "[85. 75.]\n",
            "-226.66666666666669\n"
          ]
        }
      ]
    },
    {
      "cell_type": "code",
      "metadata": {
        "id": "3875c2b7",
        "outputId": "3e937090-fd1a-4dbb-ba53-344d8ff87cc0"
      },
      "source": [
        "# Calculate R-squared\n",
        "example_model.score(example_df[['Performance','Grade']],example_df['Target'])"
      ],
      "id": "3875c2b7",
      "execution_count": null,
      "outputs": [
        {
          "data": {
            "text/plain": [
              "0.8271428571428571"
            ]
          },
          "execution_count": 131,
          "metadata": {},
          "output_type": "execute_result"
        }
      ]
    },
    {
      "cell_type": "code",
      "metadata": {
        "id": "fcc91d44",
        "outputId": "5ae4baa9-20fa-4223-ff55-43feaf5eb413"
      },
      "source": [
        "# Plot Distribution plot of Residuals\n",
        "plt.figure(figsize=(10,5))\n",
        "target_pred = example_model.predict(example_df[['Performance','Grade']])\n",
        "example_res = example_df['Target'] - target_pred\n",
        "sns.distplot(example_res)\n",
        "plt.xlabel('example_res')\n",
        "plt.title(\"Residual Analysis\",fontsize=20)\n",
        "plt.show()"
      ],
      "id": "fcc91d44",
      "execution_count": null,
      "outputs": [
        {
          "data": {
            "image/png": "[encoded data removed]",
            "text/plain": [
              "<Figure size 720x360 with 1 Axes>"
            ]
          },
          "metadata": {
            "needs_background": "light"
          },
          "output_type": "display_data"
        }
      ]
    },
    {
      "cell_type": "markdown",
      "metadata": {
        "id": "baa69c6f"
      },
      "source": [
        "As can be seen Error Terms are Normally Distributed"
      ],
      "id": "baa69c6f"
    },
    {
      "cell_type": "code",
      "metadata": {
        "id": "59442fd5",
        "outputId": "de1092d6-7db2-4ec5-fd5d-ad05a1ed1b5e"
      },
      "source": [
        "sns.scatterplot(x=example_res,y=target_pred)\n",
        "plt.xlabel('Residuals')\n",
        "plt.title(\"Residual Analysis\",fontsize=20)\n",
        "plt.show()"
      ],
      "id": "59442fd5",
      "execution_count": null,
      "outputs": [
        {
          "data": {
            "image/png": "[encoded data removed]",
            "text/plain": [
              "<Figure size 432x288 with 1 Axes>"
            ]
          },
          "metadata": {
            "needs_background": "light"
          },
          "output_type": "display_data"
        }
      ]
    },
    {
      "cell_type": "code",
      "metadata": {
        "id": "a2b199f7"
      },
      "source": [
        "# Build the model\n",
        "lr = LinearRegression()\n",
        "\n",
        "salary_reg = lr.fit(X_train,y_train)"
      ],
      "id": "a2b199f7",
      "execution_count": null,
      "outputs": []
    },
    {
      "cell_type": "code",
      "metadata": {
        "scrolled": true,
        "id": "06aabdc2",
        "outputId": "3ac8b127-2018-4b70-e631-b580ff591e94"
      },
      "source": [
        "# Verify the r2 score\n",
        "salary_reg.score(X_train,y_train)"
      ],
      "id": "06aabdc2",
      "execution_count": null,
      "outputs": [
        {
          "data": {
            "text/plain": [
              "0.964833881870778"
            ]
          },
          "execution_count": 137,
          "metadata": {},
          "output_type": "execute_result"
        }
      ]
    },
    {
      "cell_type": "code",
      "metadata": {
        "id": "ccfbd12b",
        "outputId": "d84e212b-67ad-4d6b-9e94-96dabcee8bf4"
      },
      "source": [
        "# r2 for test data\n",
        "salary_reg.score(X_test,y_test)"
      ],
      "id": "ccfbd12b",
      "execution_count": null,
      "outputs": [
        {
          "data": {
            "text/plain": [
              "0.9634621082754347"
            ]
          },
          "execution_count": 141,
          "metadata": {},
          "output_type": "execute_result"
        }
      ]
    },
    {
      "cell_type": "code",
      "metadata": {
        "scrolled": true,
        "id": "046eece6",
        "outputId": "00b5367a-c01f-47b6-a4fa-d3b8beb26012"
      },
      "source": [
        "# Plot Distribution plot of Residuals\n",
        "plt.figure(figsize=(10,5))\n",
        "y_train_pred = salary_reg.predict(X_train)\n",
        "res = y_train - y_train_pred\n",
        "sns.distplot(res)\n",
        "plt.xlabel('Residuals')\n",
        "plt.title(\"Residual Analysis\",fontsize=20)\n",
        "plt.show()"
      ],
      "id": "046eece6",
      "execution_count": null,
      "outputs": [
        {
          "data": {
            "image/png": "[encoded data removed]",
            "text/plain": [
              "<Figure size 720x360 with 1 Axes>"
            ]
          },
          "metadata": {
            "needs_background": "light"
          },
          "output_type": "display_data"
        }
      ]
    },
    {
      "cell_type": "markdown",
      "metadata": {
        "id": "6d1877f1"
      },
      "source": [
        " - The Residual terms are normally distributed with mean at 0, which is one of the Assumption of Linear Regression"
      ],
      "id": "6d1877f1"
    },
    {
      "cell_type": "code",
      "metadata": {
        "id": "b1924659",
        "outputId": "a1fe7666-f34b-4714-eca8-fb77138a24cf"
      },
      "source": [
        "sns.scatterplot(x=res,y=y_train_pred)\n",
        "plt.xlabel('Residuals')\n",
        "plt.title(\"Residual Analysis\",fontsize=20)\n",
        "plt.show()"
      ],
      "id": "b1924659",
      "execution_count": null,
      "outputs": [
        {
          "data": {
            "image/png": "[encoded data removed]",
            "text/plain": [
              "<Figure size 432x288 with 1 Axes>"
            ]
          },
          "metadata": {
            "needs_background": "light"
          },
          "output_type": "display_data"
        }
      ]
    },
    {
      "cell_type": "markdown",
      "metadata": {
        "id": "843d39c3"
      },
      "source": [
        " - The Residuals are independent of each other ,which is another assumption in Linear Regression"
      ],
      "id": "843d39c3"
    },
    {
      "cell_type": "code",
      "metadata": {
        "id": "7575bbbc",
        "outputId": "6e417e4b-5292-4847-8b93-366cfa7df093"
      },
      "source": [
        "# Print coef\n",
        "print(\"Coef are:\",salary_reg.coef_)\n",
        "\n",
        "#print intercept\n",
        "print(\"Intercept is\",salary_reg.intercept_)"
      ],
      "id": "7575bbbc",
      "execution_count": null,
      "outputs": [
        {
          "name": "stdout",
          "output_type": "stream",
          "text": [
            "Coef are: [22395.65357851  2798.67752824 -1694.55993659   -22.59156434\n",
            "   -62.65873076 -2049.21601256]\n",
            "Intercept is 39628.221303493134\n"
          ]
        }
      ]
    },
    {
      "cell_type": "code",
      "metadata": {
        "id": "8555d52c",
        "outputId": "70692a9a-a774-4e77-8015-2d8c3dfeae4d"
      },
      "source": [
        "model = str(salary_reg.intercept_)\n",
        "\n",
        "for i in range(len(salary_reg.coef_)):\n",
        "    model = model +' + '  +(str(salary_reg.coef_[i])) + ' * ' +(str(X_train.columns[i]))\n",
        "print(model)"
      ],
      "id": "8555d52c",
      "execution_count": null,
      "outputs": [
        {
          "name": "stdout",
          "output_type": "stream",
          "text": [
            "39628.221303493134 + 22395.65357851075 * JobTitle + 2798.6775282355734 * AgencyID + -1694.5599365882206 * Agency + -22.591564342892955 * HireDay + -62.65873075557645 * HireMonth + -2049.216012557781 * HireYear\n"
          ]
        }
      ]
    },
    {
      "cell_type": "markdown",
      "metadata": {
        "id": "2b0e0bd3"
      },
      "source": [
        "#### <i><font color='' face='Cursive'>Observations from Model:</font></i>\n",
        " - Of all the features given  AgencyID,JobTitle and HireYear are the major driver for expaining the variance of Annual Salary as they have higher coefficient value.\n",
        " - Out of the above features, Hire Year is negatively related to Annual Salary which is same as we have seen while performing EDA."
      ],
      "id": "2b0e0bd3"
    }
  ]
}